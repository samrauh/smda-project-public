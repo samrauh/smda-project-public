{
 "cells": [
  {
   "cell_type": "markdown",
   "id": "373d069b",
   "metadata": {},
   "source": [
    "# Download Thumbail of youtube-video"
   ]
  },
  {
   "cell_type": "code",
   "execution_count": 1,
   "id": "eab80987",
   "metadata": {},
   "outputs": [],
   "source": [
    "import pandas as pd\n",
    "import sqlite3\n",
    "import requests\n",
    "from tqdm import tqdm"
   ]
  },
  {
   "cell_type": "code",
   "execution_count": 2,
   "id": "3647a5d3",
   "metadata": {},
   "outputs": [],
   "source": [
    "db_file = 'smda/project/data/videos.db'\n",
    "\n",
    "conn = sqlite3.connect(db_file)\n",
    "\n",
    "query = '''\n",
    "    Select *\n",
    "    FROM videos\n",
    "    WHERE view_count >= 10000\n",
    "    ORDER BY RANDOM()\n",
    "    LIMIT 50000\n",
    "    '''\n",
    "df = pd.read_sql_query(query, conn)\n",
    "\n",
    "df.to_parquet('smda/project/data/random_50000_thumbnails.parquet', index=False)"
   ]
  },
  {
   "cell_type": "code",
   "execution_count": 4,
   "id": "a6cf0b10",
   "metadata": {},
   "outputs": [
    {
     "name": "stderr",
     "output_type": "stream",
     "text": [
      "100%|██████████| 50000/50000 [1:50:33<00:00,  7.54it/s]  "
     ]
    },
    {
     "name": "stdout",
     "output_type": "stream",
     "text": [
      "thumbnail_status\n",
      "success    42080\n",
      "failed      7920\n",
      "Name: count, dtype: int64\n"
     ]
    },
    {
     "name": "stderr",
     "output_type": "stream",
     "text": [
      "\n"
     ]
    }
   ],
   "source": [
    "# get thumbnail for each video\n",
    "\n",
    "thumbnail_status = []\n",
    "\n",
    "for i, row in tqdm(df.iterrows(), total=len(df)):\n",
    "    video_id = row['display_id']\n",
    "    url = f'https://img.youtube.com/vi/{video_id}/hqdefault.jpg'\n",
    "    response = requests.get(url)\n",
    "    if response.status_code == 200:\n",
    "        with open(f'smda/project/data/thumbnails/{video_id}.jpg', 'wb') as file:\n",
    "            file.write(response.content)\n",
    "        thumbnail_status.append('success')\n",
    "    else:\n",
    "        thumbnail_status.append('failed')\n",
    "\n",
    "df['thumbnail_status'] = thumbnail_status\n",
    "\n",
    "print(df['thumbnail_status'].value_counts())"
   ]
  },
  {
   "cell_type": "code",
   "execution_count": 5,
   "id": "7cc19a5e",
   "metadata": {},
   "outputs": [],
   "source": [
    "df.to_parquet('smda/project/data/random_50000_thumbnails.parquet', index=False)"
   ]
  }
 ],
 "metadata": {
  "kernelspec": {
   "display_name": "Python (smda-project)",
   "language": "python",
   "name": "smda-project"
  }
 },
 "nbformat": 4,
 "nbformat_minor": 5
}
